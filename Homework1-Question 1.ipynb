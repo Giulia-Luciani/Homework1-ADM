{
 "cells": [
  {
   "cell_type": "markdown",
   "metadata": {},
   "source": [
    "# INTRODUCTION"
   ]
  },
  {
   "cell_type": "code",
   "execution_count": null,
   "metadata": {},
   "outputs": [],
   "source": [
    "#Say \"Hello, World!\" With Python\n",
    "my_string=\"Hello, World!\"\n",
    "print(my_string)"
   ]
  },
  {
   "cell_type": "code",
   "execution_count": null,
   "metadata": {},
   "outputs": [],
   "source": [
    "#Python If-Else\n",
    "import math\n",
    "import os\n",
    "import random\n",
    "import re\n",
    "import sys\n",
    "\n",
    "\n",
    "n=int(raw_input())\n",
    "if n%2==0:\n",
    "    if n>=2 and n<=5:\n",
    "        print(\"Not Weird\")\n",
    "    elif n>=6 and n<=20:\n",
    "        print(\"Weird\")\n",
    "    else:\n",
    "        print(\"Not Weird\")\n",
    "else:\n",
    "    print(\"Weird\")"
   ]
  },
  {
   "cell_type": "code",
   "execution_count": null,
   "metadata": {},
   "outputs": [],
   "source": [
    "#Arithmetic Operators\n",
    "if __name__ == '__main__':\n",
    "    a = int(raw_input())\n",
    "    b = int(raw_input())\n",
    "    \n",
    "print(a+b)\n",
    "print(a-b)\n",
    "print(a*b)"
   ]
  },
  {
   "cell_type": "code",
   "execution_count": null,
   "metadata": {},
   "outputs": [],
   "source": [
    "#Python: Division\n",
    "from __future__ import division\n",
    "\n",
    "if __name__ == '__main__':\n",
    "    a = int(raw_input())\n",
    "    b = int(raw_input())\n",
    "\n",
    "print(int(a/b))\n",
    "print(float(a/b))"
   ]
  },
  {
   "cell_type": "code",
   "execution_count": null,
   "metadata": {},
   "outputs": [],
   "source": [
    "#loops\n",
    "if __name__ == '__main__':\n",
    "    n = int(raw_input())\n",
    "    \n",
    "for i in range(n):\n",
    "    if i>=0:\n",
    "        print(i**2)"
   ]
  },
  {
   "cell_type": "code",
   "execution_count": null,
   "metadata": {},
   "outputs": [],
   "source": [
    "#write a function\n",
    "def is_leap(year):\n",
    "    \n",
    "    leap = False\n",
    "    \n",
    "    # Write your logic here\n",
    "    \n",
    "    if year%4==0:\n",
    "        if year%100==0:\n",
    "            if year%400==0:\n",
    "                return True\n",
    "            else:\n",
    "                return False\n",
    "            return False\n",
    "        else:\n",
    "            return True    \n",
    "    return leap\n",
    "\n",
    "year = int(raw_input())\n",
    "print is_leap(year)"
   ]
  },
  {
   "cell_type": "code",
   "execution_count": null,
   "metadata": {},
   "outputs": [],
   "source": [
    "#print function\n",
    "from __future__ import print_function\n",
    "\n",
    "if __name__ == '__main__':\n",
    "    n = int(raw_input())\n",
    "\n",
    "for i in range(n+1):\n",
    "    if i>0:\n",
    "        print(i,end=\"\")"
   ]
  },
  {
   "cell_type": "markdown",
   "metadata": {},
   "source": [
    "# BASIC DATA TYPES"
   ]
  },
  {
   "cell_type": "code",
   "execution_count": null,
   "metadata": {},
   "outputs": [],
   "source": [
    "#list comprehension\n",
    "if __name__ == '__main__':\n",
    "    x = int(raw_input())\n",
    "    y = int(raw_input())\n",
    "    z = int(raw_input())\n",
    "    n = int(raw_input())\n",
    "    \n",
    "list=[[i,j,k] for i in range(0,x+1) for j in range(0,y+1) for k in range(0,z+1) if i+j+k!=n]\n",
    "print(list)"
   ]
  },
  {
   "cell_type": "code",
   "execution_count": null,
   "metadata": {},
   "outputs": [],
   "source": [
    "#runner up-score\n",
    "if __name__ == '__main__':\n",
    "    n = int(raw_input())\n",
    "    arr = map(int, raw_input().split())\n",
    "    \n",
    "arr.sort()\n",
    "max1=arr[-1]\n",
    "max2=-99999\n",
    "for i in arr:\n",
    "    if i>max2 and i<max1:\n",
    "        max2=i\n",
    "print(max2)    "
   ]
  },
  {
   "cell_type": "code",
   "execution_count": null,
   "metadata": {},
   "outputs": [],
   "source": [
    "#nested list\n",
    "stud=[]\n",
    "count=0\n",
    "if __name__ == '__main__':\n",
    "    for _ in range(int(raw_input())):\n",
    "        count=count+1\n",
    "        name = raw_input()\n",
    "        score = float(raw_input())\n",
    "        stud.append([name,score])\n",
    "\n",
    "list=[]\n",
    "grades=[stud[j][-1] for j in range(count)]\n",
    "grades.sort()\n",
    "min1=grades[0]\n",
    "min2=1e10\n",
    "for i in range(count):\n",
    "    if stud[i][-1]<=min2 and stud[i][-1]>min1:\n",
    "        min2=stud[i][-1]\n",
    "for j in range(count):\n",
    "    if min2==stud[j][-1]:\n",
    "        list.append(stud[j][0])\n",
    "list.sort()\n",
    "for k in list:\n",
    "    print(k)"
   ]
  },
  {
   "cell_type": "code",
   "execution_count": null,
   "metadata": {},
   "outputs": [],
   "source": [
    "#percentage\n",
    "if __name__ == '__main__':\n",
    "    n = int(raw_input())\n",
    "    student_marks = {}\n",
    "    for _ in range(n):\n",
    "        line = raw_input().split()\n",
    "        name, scores = line[0], line[1:]\n",
    "        scores = map(float, scores)\n",
    "        student_marks[name] = scores\n",
    "    query_name = raw_input()\n",
    "\n",
    "sum=0\n",
    "for chiave in student_marks:\n",
    "    if chiave==query_name:\n",
    "        for i in range(len(student_marks[chiave])):\n",
    "            sum=sum+student_marks[chiave][i]\n",
    "        average=sum/len(student_marks[chiave])\n",
    "print(\"%.2f\"%average)"
   ]
  },
  {
   "cell_type": "code",
   "execution_count": null,
   "metadata": {},
   "outputs": [],
   "source": [
    "#lists\n",
    "if __name__ == '__main__':\n",
    "    N = int(raw_input())\n",
    "\n",
    "l=[]\n",
    "r=[]\n",
    "for i in range(N):\n",
    "    l.append(raw_input().split())\n",
    "\n",
    "for j in range(len(l)):\n",
    "    if l[j][0]==\"insert\":\n",
    "        r.insert(int(l[j][1]),int(l[j][2]))\n",
    "    elif l[j][0]==\"print\":\n",
    "        print(r)\n",
    "    elif l[j][0]==\"remove\":\n",
    "        if int(l[j][1]) in r:\n",
    "            r.remove(int(l[j][1]))\n",
    "    elif l[j][0]==\"append\":\n",
    "        r.append(int(l[j][1]))\n",
    "    elif l[j][0]==\"pop\":\n",
    "        if r!=[]:\n",
    "            r.pop()\n",
    "    elif l[j][0]==\"reverse\":\n",
    "        r.reverse()\n",
    "    elif l[j][0]==\"sort\":\n",
    "        r.sort()"
   ]
  },
  {
   "cell_type": "code",
   "execution_count": null,
   "metadata": {},
   "outputs": [],
   "source": [
    "#tuple\n",
    "if __name__ == '__main__':\n",
    "    n = int(raw_input())\n",
    "    integer_list = map(int, raw_input().split())\n",
    "    \n",
    "list=[]\n",
    "for i in integer_list:\n",
    "    list.append(i)\n",
    "t=tuple(list)\n",
    "print(hash(t))\n",
    "    "
   ]
  },
  {
   "cell_type": "markdown",
   "metadata": {},
   "source": [
    "# STRINGS"
   ]
  },
  {
   "cell_type": "code",
   "execution_count": null,
   "metadata": {},
   "outputs": [],
   "source": [
    "#swap case\n",
    "def swap_case(s):\n",
    "    s1=\"\"\n",
    "    for i in s:\n",
    "        if i.islower()==True:\n",
    "            s1=s1+i.upper()\n",
    "        else:\n",
    "            s1=s1+i.lower()\n",
    "    return s1"
   ]
  },
  {
   "cell_type": "code",
   "execution_count": null,
   "metadata": {},
   "outputs": [],
   "source": [
    "#string split and join\n",
    "def split_and_join(line):\n",
    "    line=line.split(\" \")\n",
    "    line=\"-\".join(line)\n",
    "    return line"
   ]
  },
  {
   "cell_type": "code",
   "execution_count": null,
   "metadata": {},
   "outputs": [],
   "source": [
    "#what's your name\n",
    "def print_full_name(first, last):\n",
    "    stringa=\"\"\n",
    "    stringa=stringa+\"Hello \"+first+\" \"+last+\"! You just delved into python.\"\n",
    "    print(stringa)"
   ]
  },
  {
   "cell_type": "code",
   "execution_count": null,
   "metadata": {},
   "outputs": [],
   "source": [
    "#mutations\n",
    "def mutate_string(string, position, character):\n",
    "    l=list(string)\n",
    "    l[position]=character\n",
    "    s_new=\"\".join(l)\n",
    "    \n",
    "    return s_new"
   ]
  },
  {
   "cell_type": "code",
   "execution_count": null,
   "metadata": {},
   "outputs": [],
   "source": [
    "#find a string\n",
    "def count_substring(string, sub_string):\n",
    "    l=[]\n",
    "    count=0\n",
    "    for i in range(0,len(string)-len(sub_string)+1):\n",
    "        sub_l=[]\n",
    "        for k in range(len(sub_string)):\n",
    "            sub_l.append(string[i+k])\n",
    "        l.append(sub_l)\n",
    "            \n",
    "        \n",
    "    for j in l:\n",
    "        s=\"\".join(j)\n",
    "        if s==sub_string:\n",
    "            count=count+1\n",
    "            \n",
    "    return count"
   ]
  },
  {
   "cell_type": "code",
   "execution_count": null,
   "metadata": {},
   "outputs": [],
   "source": [
    "#string validators \n",
    "if __name__ == '__main__':\n",
    "    s = raw_input()\n",
    "count=0\n",
    "count1=0\n",
    "count3=0\n",
    "count4=0\n",
    "count5=0    \n",
    "for i in s:\n",
    "    if i.isalnum()==True:\n",
    "        count+=1\n",
    "if count>0:\n",
    "    print(True)\n",
    "else:\n",
    "    print(False)\n",
    "\n",
    "for i in s:\n",
    "    if i.isalpha()==True:\n",
    "        count1+=1\n",
    "if count1>0:\n",
    "    print(True)\n",
    "else:\n",
    "    print(False)\n",
    "    \n",
    "for i in s:\n",
    "    if i.isdigit()==True:\n",
    "        count3+=1\n",
    "if count3>0:\n",
    "    print(True)\n",
    "else:\n",
    "    print(False)\n",
    "    \n",
    "for i in s:\n",
    "    if i.islower()==True:\n",
    "        count4+=1\n",
    "if count4>0:\n",
    "    print(True)\n",
    "else:\n",
    "    print(False)\n",
    "    \n",
    "for i in s:\n",
    "    if i.isupper()==True:\n",
    "        count5+=1\n",
    "if count5>0:\n",
    "    print(True)\n",
    "else:\n",
    "    print(False)"
   ]
  },
  {
   "cell_type": "code",
   "execution_count": null,
   "metadata": {},
   "outputs": [],
   "source": [
    "#text wrap\n",
    "def wrap(string, max_width):\n",
    "    s_new=\"\"\n",
    "    for i in range(0,len(string),max_width):\n",
    "        s_new=s_new+string[i:i+max_width]\n",
    "        s_new=s_new+\"\\n\"\n",
    "    return s_new"
   ]
  },
  {
   "cell_type": "code",
   "execution_count": null,
   "metadata": {},
   "outputs": [],
   "source": [
    "#door mat\n",
    "n=raw_input()\n",
    "l=n.split(\" \")\n",
    "n=int(l[0])\n",
    "m=int(l[1])\n",
    "s=\"\"\n",
    "for i in range(1,n,2):\n",
    "    s=s+\"-\"*((m-(i*3))/2)+\".|.\"*i+\"-\"*((m-(i*3))/2)+\"\\n\"\n",
    "s=s+\"-\"*((m-7)/2)+\"WELCOME\"+\"-\"*((m-7)/2)+\"\\n\"\n",
    "\n",
    "a=[]\n",
    "for j in range(1,n,2):\n",
    "    a.append(j)\n",
    "    a.sort()\n",
    "    a.reverse()\n",
    "for k in a:    \n",
    "    s=s+\"-\"*((m-(k*3))/2)+\".|.\"*k+\"-\"*((m-(k*3))/2)+\"\\n\"\n",
    "print(s)"
   ]
  },
  {
   "cell_type": "code",
   "execution_count": null,
   "metadata": {},
   "outputs": [],
   "source": [
    "#string formatting\n",
    "def print_formatted(number):\n",
    "    spazio=len(str(bin(n).replace(\"0b\",\"\")))\n",
    "    for i in xrange(1,n+1):\n",
    "        b=bin(int(i)).replace(\"0b\",\"\").rjust(spazio,\" \")\n",
    "        o=oct(int(i)).replace(\"0\",\"\",1).rjust(spazio,\" \")\n",
    "        h=hex(int(i)).replace(\"0x\",\"\").upper().rjust(spazio,\" \")\n",
    "        j=str(i).rjust(spazio, \" \")\n",
    "        print j,o,h,b"
   ]
  },
  {
   "cell_type": "code",
   "execution_count": null,
   "metadata": {},
   "outputs": [],
   "source": [
    "#capitalize\n",
    "def solve(s):\n",
    "    l=s.split(\" \")\n",
    "    new_s=\" \".join(i.capitalize() for i in l)\n",
    "    return new_s"
   ]
  },
  {
   "cell_type": "code",
   "execution_count": null,
   "metadata": {},
   "outputs": [],
   "source": [
    "#text alignment\n",
    "n=int(raw_input())\n",
    "width1=n+4\n",
    "s=\"\"\n",
    "l=[]\n",
    "for i in range(1,n+5,2):\n",
    "    s=s+(\"H\"*i).center(width1,\" \")+\"\\n\"\n",
    "    l.append(i)\n",
    "for j in range(1,(n*3)+1):\n",
    "    width2=(n*4)/2\n",
    "    if j>=((n*3/2)-0.5) and j<=((n*3/2)+2):\n",
    "        s=s+(\"H\"*(n*5)).center(n*6)+\"\\n\"\n",
    "    else:\n",
    "        s=s+(\"H\"*n).center(n*2)+(\"H\"*n).center(n*6)+\"\\n\"\n",
    "l.reverse()\n",
    "for k in l:\n",
    "    s=s+(\"H\"*k).center(n*10,\" \")+\"\\n\"\n",
    "print(s)\n",
    "\n",
    "#my code run only the case n=5 because I do not understand well the generic figure I have to print. So I did not know how to\n",
    "#write a code that can solve problem for any n"
   ]
  },
  {
   "cell_type": "markdown",
   "metadata": {},
   "source": [
    "# SETS"
   ]
  },
  {
   "cell_type": "code",
   "execution_count": null,
   "metadata": {},
   "outputs": [],
   "source": [
    "#introduction to sets\n",
    "def average(array):\n",
    "    somma=0\n",
    "    count=0\n",
    "    for i in set(array):\n",
    "        somma+=i\n",
    "        count+=1\n",
    "    average=somma/count \n",
    "    return (\"{:.3f}\".format(average))"
   ]
  },
  {
   "cell_type": "code",
   "execution_count": null,
   "metadata": {},
   "outputs": [],
   "source": [
    "#no idea!\n",
    "n,m=raw_input().split()\n",
    "\n",
    "I=raw_input().split()\n",
    "\n",
    "A=set(raw_input().split())\n",
    "B=set(raw_input().split())\n",
    "\n",
    "H=0\n",
    "for i in I:\n",
    "    if i in A:\n",
    "        H+=1\n",
    "    elif i in B:\n",
    "        H+=-1\n",
    "    else:\n",
    "        H=H\n",
    "print(H)"
   ]
  },
  {
   "cell_type": "code",
   "execution_count": null,
   "metadata": {},
   "outputs": [],
   "source": [
    "#symmetric difference\n",
    "m=raw_input()\n",
    "M=set(raw_input().split())\n",
    "n=raw_input()\n",
    "N=set(raw_input().split())\n",
    "\n",
    "l=[int(i) for i in M.difference(N)]\n",
    "for j in N.difference(M):\n",
    "    if j not in l:\n",
    "        l.append(int(j))\n",
    "#newlis = list(map(int, l))\n",
    "l.sort()\n",
    "for k in l:\n",
    "    print(k)"
   ]
  },
  {
   "cell_type": "code",
   "execution_count": null,
   "metadata": {},
   "outputs": [],
   "source": [
    "#set add\n",
    "a=set()\n",
    "n=int(raw_input())\n",
    "for i in range(n):\n",
    "    paese=raw_input()\n",
    "    a.add(paese)\n",
    "\n",
    "count=0\n",
    "for j in a:\n",
    "    count=count+1\n",
    "print(count)"
   ]
  },
  {
   "cell_type": "code",
   "execution_count": null,
   "metadata": {},
   "outputs": [],
   "source": [
    "#union\n",
    "n=raw_input()\n",
    "E=set(raw_input().split())\n",
    "m=raw_input()\n",
    "F=set(raw_input().split())\n",
    "\n",
    "U=E.union(F)\n",
    "count=0\n",
    "for i in U:\n",
    "    count+=1\n",
    "print(count)"
   ]
  },
  {
   "cell_type": "code",
   "execution_count": null,
   "metadata": {},
   "outputs": [],
   "source": [
    "#intersection\n",
    "n=raw_input()\n",
    "E=set(raw_input().split())\n",
    "m=raw_input()\n",
    "F=set(raw_input().split())\n",
    "\n",
    "I=E.intersection(F)\n",
    "count=0\n",
    "for i in I:\n",
    "    count+=1\n",
    "print(count)"
   ]
  },
  {
   "cell_type": "code",
   "execution_count": null,
   "metadata": {},
   "outputs": [],
   "source": [
    "#difference\n",
    "n=raw_input()\n",
    "E=set(raw_input().split())\n",
    "m=raw_input()\n",
    "F=set(raw_input().split())\n",
    "\n",
    "D=E.difference(F)\n",
    "\n",
    "count=0\n",
    "for i in D:\n",
    "    count+=1\n",
    "print(count)"
   ]
  },
  {
   "cell_type": "code",
   "execution_count": null,
   "metadata": {},
   "outputs": [],
   "source": [
    "#symmetric difference\n",
    "n=raw_input()\n",
    "E=set(raw_input().split())\n",
    "m=raw_input()\n",
    "F=set(raw_input().split())\n",
    "\n",
    "S=E.symmetric_difference(F)\n",
    "count=0\n",
    "for i in S:\n",
    "    count+=1\n",
    "print(count)"
   ]
  },
  {
   "cell_type": "code",
   "execution_count": null,
   "metadata": {},
   "outputs": [],
   "source": [
    "#set mutations\n",
    "n=raw_input()\n",
    "A=set(raw_input().split())\n",
    "N=int(raw_input())\n",
    "l=[]\n",
    "for i in range(N*2):\n",
    "    l.append(raw_input().split())\n",
    "for j in range(0,len(l),2):\n",
    "    if (l[j][0])==\"intersection_update\":\n",
    "        B=set()\n",
    "        for b in l[j+1]:\n",
    "            B.add(b)\n",
    "        A.intersection_update(B)\n",
    "    elif (l[j][0])==\"update\":\n",
    "        C=set()\n",
    "        for c in l[j+1]:\n",
    "            C.add(c)\n",
    "        A.update(C)\n",
    "    elif (l[j][0])==\"symmetric_difference_update\":\n",
    "        D=set()\n",
    "        for d in l[j+1]:\n",
    "            D.add(d)\n",
    "        A.symmetric_difference_update(D)\n",
    "    elif (l[j][0])==\"difference_update\":\n",
    "        E=set()\n",
    "        for e in l[j+1]:\n",
    "            E.add(e)\n",
    "        A.difference_update(E)\n",
    "somma=0\n",
    "for i in A:\n",
    "    somma=somma+int(i)\n",
    "print(somma)"
   ]
  },
  {
   "cell_type": "code",
   "execution_count": null,
   "metadata": {},
   "outputs": [],
   "source": [
    "#captain's room\n",
    "k=int(raw_input())\n",
    "n=raw_input().split()\n",
    "\n",
    "s1=set()\n",
    "s2=set()\n",
    "for i in n:\n",
    "    if i in s1:\n",
    "        s2.add(i)\n",
    "    else:\n",
    "        s1.add(i)\n",
    "d=s1.difference(s2)\n",
    "for e in d:\n",
    "    print(int(e))"
   ]
  },
  {
   "cell_type": "code",
   "execution_count": null,
   "metadata": {},
   "outputs": [],
   "source": [
    "#subset\n",
    "T=int(raw_input())\n",
    "l=[]\n",
    "for i in range(T*4):\n",
    "    l.append(raw_input().split())\n",
    "\n",
    "for j in range(1,len(l),4):\n",
    "    count=0\n",
    "    for k in l[j]:\n",
    "        if k in l[j+2]:\n",
    "            count=count+1\n",
    "    if count==int(l[j-1][0]):\n",
    "        print(True)\n",
    "    else:\n",
    "        print(False)"
   ]
  },
  {
   "cell_type": "code",
   "execution_count": null,
   "metadata": {},
   "outputs": [],
   "source": [
    "#strict superset\n",
    "A=set(raw_input().split())\n",
    "n=int(raw_input())\n",
    "l=[]\n",
    "for _ in range(n):\n",
    "    l.append(raw_input().split())\n",
    "\n",
    "#verifica subset\n",
    "N=0\n",
    "for i in range(len(l)):\n",
    "    count=0\n",
    "    for j in l[i]:\n",
    "        if j in A:\n",
    "            count=count+1\n",
    "    if count==len(l[i]):\n",
    "        N=N+1\n",
    "if N==n:\n",
    "    #verifica superset\n",
    "    tr=0\n",
    "    for k in range(len(l)):\n",
    "        ver=0\n",
    "        for a in A:\n",
    "            if a not in l[k]:\n",
    "                ver=ver+1\n",
    "                break\n",
    "        if ver==1:\n",
    "            tr=tr+1\n",
    "    if tr==n:\n",
    "        print(True)\n",
    "    else:\n",
    "        print(False)\n",
    "\n",
    "else:\n",
    "    print(False)"
   ]
  },
  {
   "cell_type": "code",
   "execution_count": null,
   "metadata": {},
   "outputs": [],
   "source": [
    "#discard, pop,remove\n",
    "n=int(raw_input())\n",
    "x=set(raw_input().split())\n",
    "f=set()\n",
    "s=set()\n",
    "for z in x:\n",
    "    s.add(int(z))\n",
    "    \n",
    "m=int(raw_input())\n",
    "l=[]\n",
    "\n",
    "for i in range(m):\n",
    "    l.append(raw_input().split())\n",
    "    \n",
    "for j in range(len(l)):\n",
    "    if l[j][0]==\"pop\":\n",
    "        if s!=f:\n",
    "            s.pop()\n",
    "    elif l[j][0]==\"remove\":\n",
    "        a=int(l[j][1])\n",
    "        if a in s:\n",
    "            s.remove(a)\n",
    "    elif l[j][0]==\"discard\":\n",
    "        b=int(l[j][1])\n",
    "        s.discard(b)\n",
    "somma=0\n",
    "for i in s:\n",
    "    somma+=int(i)\n",
    "print(somma)\n",
    "\n",
    "#my code does not run because the pop operator removes arbitrary an element and it does not remove the first element"
   ]
  },
  {
   "cell_type": "markdown",
   "metadata": {},
   "source": [
    "# COLLECTIONS"
   ]
  },
  {
   "cell_type": "code",
   "execution_count": null,
   "metadata": {},
   "outputs": [],
   "source": [
    "#counter\n",
    "n=int(raw_input())\n",
    "size=raw_input().split()\n",
    "C=int(raw_input())\n",
    "l=[]\n",
    "for _ in range(C):\n",
    "    l.append(raw_input().split())\n",
    "\n",
    "money=0\n",
    "for i in range(len(l)):\n",
    "    if l[i][0] in size:\n",
    "        money=money+int(l[i][1])\n",
    "        size.remove(l[i][0])\n",
    "print(money)"
   ]
  },
  {
   "cell_type": "code",
   "execution_count": null,
   "metadata": {},
   "outputs": [],
   "source": [
    "#default dict\n",
    "from collections import defaultdict\n",
    "n,m=map(int,raw_input().split())\n",
    "A=[]\n",
    "B=[]\n",
    "for _ in range(n):\n",
    "    A.append(raw_input())\n",
    "for _ in range(m):\n",
    "    B.append(raw_input())\n",
    "\n",
    "d=defaultdict(list)\n",
    "for i in range(n):\n",
    "    d[A[i]].append(i+1)\n",
    "for j in B:\n",
    "    if j in d:\n",
    "        print(\" \".join(map(str,d[j])))\n",
    "    else:\n",
    "        print(-1)"
   ]
  },
  {
   "cell_type": "code",
   "execution_count": null,
   "metadata": {},
   "outputs": [],
   "source": [
    "#ordered dict\n",
    "from collections import OrderedDict\n",
    "d={}\n",
    "n=int(raw_input())\n",
    "for i in range(n):\n",
    "    l=[]\n",
    "    l.append(raw_input().split())\n",
    "    prezzo=int(l[0][-1])\n",
    "    prod=\" \".join(l[0][:-1])\n",
    "    if d.get(prod):\n",
    "        d[prod]=d[prod]+prezzo  #non conoscevo funzione get trovata dalla discussions\n",
    "    else:\n",
    "        d[prod]=prezzo\n",
    "\n",
    "for j in d:\n",
    "    result=[]\n",
    "    result.append(j)\n",
    "    result.append(d[j])\n",
    "    print(\" \".join(map(str,result)))"
   ]
  },
  {
   "cell_type": "code",
   "execution_count": null,
   "metadata": {},
   "outputs": [],
   "source": [
    "#word order\n",
    "n=int(raw_input())\n",
    "l=[]\n",
    "s1=set()\n",
    "for _ in range(n):\n",
    "    l.append(raw_input())\n",
    "#for j in l:\n",
    " #   s1.add(j)\n",
    "#print(len(s1))\n",
    "d={}  \n",
    "for i in l:\n",
    "    if d.get(i):\n",
    "        d[i]=d[i]+1\n",
    "    else:\n",
    "        d[i]=1\n",
    "tot=0\n",
    "result=[]\n",
    "for j in d:\n",
    "    result.append(d[j])\n",
    "    tot=tot+1\n",
    "print(tot)\n",
    "print(\" \".join(map(str,result)))"
   ]
  },
  {
   "cell_type": "code",
   "execution_count": null,
   "metadata": {},
   "outputs": [],
   "source": [
    "#deque\n",
    "from collections import deque\n",
    "d=deque()\n",
    "n=int(raw_input())\n",
    "l=[]\n",
    "for _ in range(n):\n",
    "    l.append(raw_input().split())\n",
    "for i in range(len(l)):\n",
    "    if l[i][0]==\"append\":\n",
    "        d.append(int(l[i][0]))\n",
    "    elif l[i][0]==\"appendleft\":\n",
    "        d.appendleft(int(l[i][1]))\n",
    "    elif l[i][0]==\"pop\":\n",
    "        d.pop()\n",
    "    elif l[i][0]==\"popleft\":\n",
    "        d.popleft()\n",
    "result=[]\n",
    "for x in d:\n",
    "    result.append(x)\n",
    "print(\" \".join(map(str,result)))"
   ]
  },
  {
   "cell_type": "code",
   "execution_count": null,
   "metadata": {},
   "outputs": [],
   "source": [
    "#company logo\n",
    "s=raw_input()\n",
    "ins=set()\n",
    "d={}\n",
    "for j in s:\n",
    "    if j in d:\n",
    "        d[j]=d[j]+1\n",
    "    else:\n",
    "        d[j]=1\n",
    "d2=sorted(sorted(d),key=d.get,reverse=True)\n",
    "for i in d2[:3]:\n",
    "    result=[]\n",
    "    result.append(i)\n",
    "    result.append(d[i])\n",
    "    print(\" \".join(map(str,result)))"
   ]
  },
  {
   "cell_type": "code",
   "execution_count": null,
   "metadata": {},
   "outputs": [],
   "source": [
    "#pilling up\n",
    "from collections import deque\n",
    "T=int(raw_input())\n",
    "for i in range(T):\n",
    "    n=int(raw_input())\n",
    "    l=deque(map(int, raw_input().strip().split()))\n",
    "    max=1e10\n",
    "    for _ in range(len(l)):\n",
    "        if l[0]<=l[-1]:\n",
    "            if (l[-1]<=max):\n",
    "                max=l[-1]\n",
    "                l.pop()\n",
    "        else:\n",
    "            if (l[0]<=max):\n",
    "                max=l[0]\n",
    "                l.popleft()\n",
    "             \n",
    "                          \n",
    "                  \n",
    "                    \n",
    "    if len(l)==0:\n",
    "        print(\"Yes\")\n",
    "    else:\n",
    "        print(\"No\")"
   ]
  },
  {
   "cell_type": "code",
   "execution_count": null,
   "metadata": {},
   "outputs": [],
   "source": [
    "#named tuple\n",
    "rom collections import namedtuple\n",
    "n=int(raw_input())\n",
    "col=raw_input().split()\n",
    "ind=1\n",
    "for j in range(len(col)):\n",
    "    if col[j]==\"MARKS\":\n",
    "        ind=ind*j\n",
    "       \n",
    "somma=0\n",
    "#stud=namedtuple(\"studente\",col)\n",
    "for i in range(n):\n",
    "    l=[]\n",
    "    l.append(raw_input().split())\n",
    "    somma=somma+int(l[0][ind])\n",
    "    #studente=stud(ID, MARKS, NAME, CLASS)\n",
    "    #somma=somma+int(studente.MARKS)\n",
    "\n",
    "    \n",
    "print(\"{:.2f}\".format((somma/n)))\n",
    "\n",
    "\n",
    "#I tried to solve the problem either using namedtuple (as you can see in the #comments), or using the list\n",
    "#but my code does not run, I also check my code with the comment in the discussions, but I could not find an explanation of why \n",
    "#my code did not run"
   ]
  },
  {
   "cell_type": "markdown",
   "metadata": {},
   "source": [
    "# DATE AND TIME"
   ]
  },
  {
   "cell_type": "code",
   "execution_count": null,
   "metadata": {},
   "outputs": [],
   "source": [
    "#calendar module\n",
    "import calendar\n",
    "mese,giorno,anno=map(int,raw_input().split())\n",
    "print(calendar.day_name[calendar.weekday(anno,mese,giorno)].upper())"
   ]
  },
  {
   "cell_type": "code",
   "execution_count": null,
   "metadata": {},
   "outputs": [],
   "source": [
    "#time delta\n",
    "from datetime import datetime\n",
    "N=int(raw_input())\n",
    "\n",
    "fmt = '%a %d %b %Y %H:%M:%S %z'\n",
    "for _ in range(N):\n",
    "    time1 = datetime.strptime(raw_input(), fmt)\n",
    "    time2 = datetime.strptime(raw_input(), fmt)\n",
    "    print(int(abs((time1 - time2).total_seconds())))\n",
    "    \n",
    "#I did not know the datetime and strptime operators, so I used the comments in the discussions to solve the problem"
   ]
  },
  {
   "cell_type": "markdown",
   "metadata": {},
   "source": [
    "# EXCEPTIONS"
   ]
  },
  {
   "cell_type": "code",
   "execution_count": null,
   "metadata": {},
   "outputs": [],
   "source": [
    "#incorrect regex\n",
    "import re\n",
    "T=int(raw_input())\n",
    "for i in range(T):\n",
    "    reg=raw_input()\n",
    "    try:\n",
    "        regex=re.compile(reg)\n",
    "    except re.error:\n",
    "        print(False)\n",
    "    else:\n",
    "        print(True)"
   ]
  },
  {
   "cell_type": "markdown",
   "metadata": {},
   "source": [
    "# BUILT-INS"
   ]
  },
  {
   "cell_type": "code",
   "execution_count": null,
   "metadata": {},
   "outputs": [],
   "source": [
    "#Zipped\n",
    "N,X=map(int,raw_input().split())\n",
    "l=[]\n",
    "for _ in range(X):\n",
    "    l.append(map(float,raw_input().split()))\n",
    "for i in zip(*l):\n",
    "    av=sum(i)/X\n",
    "    print(av)"
   ]
  },
  {
   "cell_type": "code",
   "execution_count": null,
   "metadata": {},
   "outputs": [],
   "source": [
    "#input\n",
    "x,k=map(int,raw_input().split())\n",
    "print(eval(raw_input())==k)"
   ]
  },
  {
   "cell_type": "code",
   "execution_count": null,
   "metadata": {},
   "outputs": [],
   "source": [
    "#any or all\n",
    "n=int(raw_input())\n",
    "l=raw_input().split()\n",
    "if all(int(i)>=0 for i in l)==True:\n",
    "    if any(j==j[::-1] for j in l)==True:\n",
    "        print(\"True\")\n",
    "    else:\n",
    "        print(\"False\")\n",
    "else:\n",
    "    print(\"False\")"
   ]
  },
  {
   "cell_type": "markdown",
   "metadata": {},
   "source": [
    "# python functional"
   ]
  },
  {
   "cell_type": "code",
   "execution_count": null,
   "metadata": {},
   "outputs": [],
   "source": [
    "#map and lambda\n",
    "cube = lambda x: x**3 # complete the lambda function \n",
    "\n",
    "def fibonacci(n):\n",
    "    if n==0:\n",
    "        return []\n",
    "    elif n==1:\n",
    "        return [0]\n",
    "    else:\n",
    "        l=[]\n",
    "        l.append(0)\n",
    "        l.append(1)\n",
    "        for i in range(2,n):\n",
    "            l.append(l[i-1]+l[i-2])\n",
    "        return l"
   ]
  },
  {
   "cell_type": "markdown",
   "metadata": {},
   "source": [
    "# REGEX AND PARSING"
   ]
  },
  {
   "cell_type": "code",
   "execution_count": null,
   "metadata": {},
   "outputs": [],
   "source": [
    "#floating point\n",
    "cube = lambda x: x**3 # complete the lambda function \n",
    "\n",
    "def fibonacci(n):\n",
    "    if n==0:\n",
    "        return []\n",
    "    elif n==1:\n",
    "        return [0]\n",
    "    else:\n",
    "        l=[]\n",
    "        l.append(0)\n",
    "        l.append(1)\n",
    "        for i in range(2,n):\n",
    "            l.append(l[i-1]+l[i-2])\n",
    "        return l"
   ]
  },
  {
   "cell_type": "code",
   "execution_count": null,
   "metadata": {},
   "outputs": [],
   "source": [
    "#split\n",
    "regex_pattern =r\"[.,]\""
   ]
  },
  {
   "cell_type": "code",
   "execution_count": null,
   "metadata": {},
   "outputs": [],
   "source": [
    "#group,groups,groupdict\n",
    "import re\n",
    "s=raw_input()\n",
    "m=re.search(r\"([a-zA-Z0-9])\\1+\",s)\n",
    "if m:\n",
    "    print(m.group(1))\n",
    "else:\n",
    "    print(-1)"
   ]
  },
  {
   "cell_type": "code",
   "execution_count": null,
   "metadata": {},
   "outputs": [],
   "source": [
    "#findall finditer\n",
    "import re\n",
    "s=raw_input()\n",
    "consonanti=\"QWRTYPSDFGHJKLZXCVBNMqwrtypsdfghjklzxcvbnm\"\n",
    "vocali=\"AEIOUaeiou\"\n",
    "m=re.findall(r'(?<=['+consonanti+'])(['+vocali+']{2,})(?=['+consonanti+'])',s)\n",
    "if m:\n",
    "    for i in m:\n",
    "        print(i)\n",
    "else:\n",
    "    print(-1)"
   ]
  },
  {
   "cell_type": "code",
   "execution_count": null,
   "metadata": {},
   "outputs": [],
   "source": [
    "#start end\n",
    "import re\n",
    "s=raw_input()\n",
    "k=raw_input()\n",
    "m=re.search(k,s)\n",
    "if m:\n",
    "    while m:\n",
    "        print (\"({}, {})\".format(m.start(),(m.end()-1)))\n",
    "        m=(re.compile(k)).search(s,m.start()+1)\n",
    "else:\n",
    "    print((-1,-1))\n",
    "    \n",
    "#I used the comments in the discussions to solve the problem"
   ]
  },
  {
   "cell_type": "code",
   "execution_count": null,
   "metadata": {},
   "outputs": [],
   "source": [
    "#subsitution\n",
    "import re\n",
    "n=int(raw_input())\n",
    "for _ in range(n):\n",
    "    a=re.compile(r\"(?<= )(&&)(?= )\")\n",
    "    b=re.compile(r\"(?<= )(\\|\\|)(?= )\")\n",
    "    print(a.sub(\"and\",b.sub(\"or\",raw_input())))"
   ]
  },
  {
   "cell_type": "code",
   "execution_count": null,
   "metadata": {},
   "outputs": [],
   "source": [
    "#roman number\n",
    "unit=\"(I[VX]|V?I{0,3})\"\n",
    "dieci=\"(X[LC]|L?X{0,3})\"\n",
    "cento=\"(C[DM]|D?C{0,3})\"\n",
    "mille=\"M{0,3}\"\n",
    "regex_pattern = r\"^\"+mille+cento+dieci+unit+\"$\""
   ]
  },
  {
   "cell_type": "code",
   "execution_count": null,
   "metadata": {},
   "outputs": [],
   "source": [
    "#phone number\n",
    "import re\n",
    "n=int(raw_input())\n",
    "for _ in range(n):\n",
    "    m=re.match(r\"^[789]\\d{9}$\",raw_input())\n",
    "    if m:\n",
    "        print(\"YES\")\n",
    "    else:\n",
    "        print(\"NO\")"
   ]
  },
  {
   "cell_type": "code",
   "execution_count": null,
   "metadata": {},
   "outputs": [],
   "source": [
    "#parsing and validating email\n",
    "import re\n",
    "import email.utils\n",
    "n=int(raw_input())\n",
    "for _ in range(n):\n",
    "    s=email.utils.parseaddr(raw_input())\n",
    "    m=re.match(r\"^[a-zA-Z][\\w\\-.]*@[a-zA-Z]+\\.[a-zA-Z]{1,3}$\",s[1])\n",
    "    if m:\n",
    "        print(email.utils.formataddr((s)))"
   ]
  },
  {
   "cell_type": "code",
   "execution_count": null,
   "metadata": {},
   "outputs": [],
   "source": [
    "#hex color \n",
    "import re\n",
    "n=int(raw_input())\n",
    "for _ in range(n):\n",
    "    a=r\"(?<!^)#(?:[\\da-fA-F]{3,6})\"\n",
    "    for i in re.findall(a,raw_input()):\n",
    "        print(i)\n",
    "        \n",
    "#I did not know the command (?<!^) to not match the start of the line and I copied it from the discussions"
   ]
  },
  {
   "cell_type": "code",
   "execution_count": null,
   "metadata": {},
   "outputs": [],
   "source": [
    "#html parser 1\n",
    "from html.parser import HTMLParser\n",
    "\n",
    "class MyHTMLParser(HTMLParser):\n",
    "    def handle_starttag(self, tag, attrs):\n",
    "        print ('Start :', tag)\n",
    "        for i in attrs:\n",
    "            print ('->',i[0],'>',i[1])\n",
    "\n",
    "    def handle_endtag(self, tag):\n",
    "        print ('End   :', tag)\n",
    "\n",
    "    def handle_startendtag(self, tag, attrs):\n",
    "        print ('Empty :', tag)\n",
    "        for i in attrs:\n",
    "            print ('->',i[0],'>',i[1])\n",
    "\n",
    "parser = MyHTMLParser()\n",
    "for _ in range(int(input())):\n",
    "    parser.feed(input())\n",
    "    \n",
    "#I solved it on  py3 because on py2 it did not run"
   ]
  },
  {
   "cell_type": "code",
   "execution_count": null,
   "metadata": {},
   "outputs": [],
   "source": [
    "#html parser 2\n",
    "from HTMLParser import HTMLParser\n",
    "n=int(raw_input())\n",
    "class MyHTMLParser(HTMLParser):\n",
    "    def handle_comment(self, data):\n",
    "        if \"\\n\" in data:\n",
    "            print(\">>> Multi-line Comment\")\n",
    "        else:\n",
    "            print(\">>> Single-line Comment\")\n",
    "        print(data)\n",
    "    def handle_data(self, data):\n",
    "        if data.strip():\n",
    "            print (\">>> Data\")\n",
    "            print(data)\n",
    "\n",
    "html=\"\"\n",
    "for _ in range(n):\n",
    "    html+=raw_input().rstrip()+\"\\n\"\n",
    "\n",
    "parser = MyHTMLParser()\n",
    "parser.feed(html)"
   ]
  },
  {
   "cell_type": "code",
   "execution_count": null,
   "metadata": {},
   "outputs": [],
   "source": [
    "#html tags,attributes\n",
    "from html.parser import HTMLParser\n",
    "n=int(input())\n",
    "class MyHTMLParser(HTMLParser):\n",
    "    def handle_starttag(self, tag, attrs):\n",
    "        print(tag)\n",
    "        for i in attrs:\n",
    "            print(\"->\",i[0],\">\",i[1])\n",
    "\n",
    "            \n",
    "parser = MyHTMLParser()\n",
    "for _ in range(n):\n",
    "    parser.feed(input())\n",
    "\n",
    "#I solved it on  py3 because on py2 it did not run"
   ]
  },
  {
   "cell_type": "code",
   "execution_count": null,
   "metadata": {},
   "outputs": [],
   "source": [
    "#validating UID\n",
    "import re\n",
    "n=int(raw_input())\n",
    "for _ in range(n):\n",
    "    s=raw_input()\n",
    "    if all([re.search(i,s) for i in [r\"[A-Za-z0-9]{10}\",r\"([A-Z].*){2}\",r\"([0-9].*){3}\"]]) and not re.search(r\".*(.).*\\1\",s):\n",
    "        print(\"Valid\")\n",
    "    else:\n",
    "        print(\"Invalid\")\n",
    "        \n",
    "#I did not know the operator to not have repetitions: (.*(.).*\\1). So I found it on the discussions"
   ]
  },
  {
   "cell_type": "code",
   "execution_count": null,
   "metadata": {},
   "outputs": [],
   "source": [
    "#credit card numbers\n",
    "import re\n",
    "n=int(raw_input())\n",
    "for _ in range(n):\n",
    "    s=raw_input()\n",
    "    if re.search(r\"^[456](\\d{15}|[\\d]{3}(-[\\d]{4}){3})$\",s) and not re.search(r'(\\d)\\1{3,}',s.replace('-','')):   \n",
    "        print(\"Valid\")   \n",
    "    else:                  \n",
    "        print(\"Invalid\")"
   ]
  },
  {
   "cell_type": "code",
   "execution_count": null,
   "metadata": {},
   "outputs": [],
   "source": [
    "#validating postal codes\n",
    "regex_integer_in_range = r\"^[1-9](\\d{5})$\"\n",
    "regex_alternating_repetitive_digit_pair = r\"(\\d)(?=\\d\\1)\""
   ]
  },
  {
   "cell_type": "code",
   "execution_count": null,
   "metadata": {},
   "outputs": [],
   "source": [
    "#matrix script\n",
    "import math\n",
    "import os\n",
    "import random\n",
    "import re\n",
    "import sys\n",
    "\n",
    "\n",
    "\n",
    "\n",
    "first_multiple_input = raw_input().rstrip().split()\n",
    "\n",
    "n = int(first_multiple_input[0])\n",
    "\n",
    "m = int(first_multiple_input[1])\n",
    "\n",
    "matrix = []\n",
    "import re\n",
    "for _ in xrange(n):\n",
    "    matrix_item = raw_input()\n",
    "    matrix.append(matrix_item)\n",
    "s=\"\"\n",
    "for i in zip(*matrix):\n",
    "    for j in i:\n",
    "        s=s+j\n",
    "a=re.compile(r\"(?<=\\w)(\\W)+(?=\\w)\")\n",
    "print(re.sub(a,\" \",s))"
   ]
  },
  {
   "cell_type": "markdown",
   "metadata": {},
   "source": [
    "# XML"
   ]
  },
  {
   "cell_type": "code",
   "execution_count": null,
   "metadata": {},
   "outputs": [],
   "source": [
    "def get_attr_number(node):\n",
    "    count=0\n",
    "    for i in node.iter():   \n",
    "        count+=len(i.attrib)\n",
    "    return count\n",
    "\n",
    "#I did not know that using node.iter() I can see the fisrt element, so I found it on the discussions"
   ]
  },
  {
   "cell_type": "code",
   "execution_count": null,
   "metadata": {},
   "outputs": [],
   "source": [
    "maxdepth = 0\n",
    "def depth(elem, level):\n",
    "    global maxdepth                    \n",
    "    level += 1                        \n",
    "    if level >= maxdepth:\n",
    "        maxdepth = level\n",
    "    for child in elem:\n",
    "        depth(child, level)"
   ]
  },
  {
   "cell_type": "markdown",
   "metadata": {},
   "source": [
    "# CLOSURE AND DECORATIONS "
   ]
  },
  {
   "cell_type": "code",
   "execution_count": null,
   "metadata": {},
   "outputs": [],
   "source": [
    "#Standardize Mobile Number Using Decorators\n",
    "def wrapper(f):\n",
    "    def fun(l):\n",
    "        for i in l:\n",
    "            if len(i)==10:\n",
    "                print(\"+91\",i)\n",
    "            elif len(i)==11:\n",
    "                print(\"+91\",i[1:])\n",
    "            elif len(i)==12:\n",
    "                print(\"+91\",i[2:])\n",
    "            elif len(i)==13:\n",
    "                print(\"+91\",i[3:])\n",
    "        # complete the function\n",
    "    return fun"
   ]
  },
  {
   "cell_type": "code",
   "execution_count": null,
   "metadata": {},
   "outputs": [],
   "source": [
    "#name directory\n",
    "def person_lister(f):\n",
    "    def inner(people):\n",
    "        return map(f, sorted(people,key=lambda x: int(x[2])))\n",
    "    return inner\n",
    "\n",
    "#I used the lambda operator because I found it in the discussions, otherwise I would not have known how to solve that part of the problem"
   ]
  },
  {
   "cell_type": "markdown",
   "metadata": {},
   "source": [
    "# NUMPY"
   ]
  },
  {
   "cell_type": "code",
   "execution_count": null,
   "metadata": {},
   "outputs": [],
   "source": [
    "#array\n",
    "def arrays(arr):\n",
    "    arr.reverse()\n",
    "    a=numpy.array(arr,float)\n",
    "    return a"
   ]
  },
  {
   "cell_type": "code",
   "execution_count": null,
   "metadata": {},
   "outputs": [],
   "source": [
    "#shape and reshape\n",
    "import numpy\n",
    "arr=[]\n",
    "for i in input().replace(\" \",\"\"):\n",
    "    arr.append(i)\n",
    "my_array=numpy.array(arr,int)\n",
    "print (numpy.reshape(my_array,(3,3)))"
   ]
  },
  {
   "cell_type": "code",
   "execution_count": null,
   "metadata": {},
   "outputs": [],
   "source": [
    "#transpose and faltten\n",
    "import numpy\n",
    "n, m = map(int,raw_input().split())\n",
    "arr=[]\n",
    "for _ in range(n):\n",
    "    arr.append(raw_input().strip().split())\n",
    "arr1=numpy.array(arr,int)\n",
    "print(arr1.transpose())\n",
    "print(arr1.flatten())"
   ]
  },
  {
   "cell_type": "code",
   "execution_count": null,
   "metadata": {},
   "outputs": [],
   "source": [
    "#concatenate\n",
    "import numpy\n",
    "n,m,p = map(int,raw_input().split())\n",
    "array_1=numpy.array([raw_input().strip().split() for _ in range(n)],int)\n",
    "array_2=numpy.array([raw_input().strip().split() for _ in range(m)],int)\n",
    "print numpy.concatenate((array_1, array_2), axis = 0)"
   ]
  },
  {
   "cell_type": "code",
   "execution_count": null,
   "metadata": {},
   "outputs": [],
   "source": [
    "#zeros and ones\n",
    "import numpy\n",
    "dimension=tuple(map(int,raw_input().strip().split()))\n",
    "print numpy.zeros(dimension,dtype = numpy.int)\n",
    "print numpy.ones(dimension,dtype = numpy.int)"
   ]
  },
  {
   "cell_type": "code",
   "execution_count": null,
   "metadata": {},
   "outputs": [],
   "source": [
    "#eye and identity\n",
    "import numpy\n",
    "numpy.set_printoptions(legacy=\"1.13\")\n",
    "n,m=map(int,raw_input().split())\n",
    "print(numpy.eye(n, m, k = 0))\n"
   ]
  },
  {
   "cell_type": "code",
   "execution_count": null,
   "metadata": {},
   "outputs": [],
   "source": [
    "#array mathematics\n",
    "import numpy\n",
    "n,m=map(int,raw_input().split())\n",
    "a, b = (numpy.array([raw_input().split() for _ in range(n)], dtype=int) for _ in range(2))\n",
    "print (numpy.add(a, b))\n",
    "print(numpy.subtract(a, b))\n",
    "print(numpy.multiply(a, b))\n",
    "print(numpy.divide(a, b))\n",
    "print(numpy.mod(a, b))\n",
    "print(numpy.power(a, b))    "
   ]
  },
  {
   "cell_type": "code",
   "execution_count": null,
   "metadata": {},
   "outputs": [],
   "source": [
    "#floor,ceil and rint\n",
    "import numpy\n",
    "numpy.set_printoptions(legacy=\"1.13\")\n",
    "arr=numpy.array(raw_input().split(),dtype=float)\n",
    "print numpy.floor(arr)\n",
    "print numpy.ceil(arr)\n",
    "print numpy.rint(arr)"
   ]
  },
  {
   "cell_type": "code",
   "execution_count": null,
   "metadata": {},
   "outputs": [],
   "source": [
    "#sum and prod\n",
    "import numpy\n",
    "n,m=map(int,raw_input().split())\n",
    "my_array=numpy.array([raw_input().split() for _ in range(n)],int)\n",
    "print(numpy.prod((numpy.sum(my_array, axis = 0)),axis=0))"
   ]
  },
  {
   "cell_type": "code",
   "execution_count": null,
   "metadata": {},
   "outputs": [],
   "source": [
    "#min max\n",
    "import numpy\n",
    "n,m=map(int,raw_input().split())\n",
    "my_array=numpy.array([raw_input().split() for _ in range(n)], int)\n",
    "print(numpy.max(numpy.min(my_array, axis = 1)))"
   ]
  },
  {
   "cell_type": "code",
   "execution_count": null,
   "metadata": {},
   "outputs": [],
   "source": [
    "#mean,var,std\n",
    "import numpy\n",
    "n,m=map(int,raw_input().split())\n",
    "my_array=numpy.array([raw_input().split() for _ in range(n)], int)\n",
    "print numpy.mean(my_array, axis = 1)\n",
    "print numpy.var(my_array, axis = 0)\n",
    "print numpy.around(numpy.std(my_array),decimals=11)"
   ]
  },
  {
   "cell_type": "code",
   "execution_count": null,
   "metadata": {},
   "outputs": [],
   "source": [
    "#dot and cross\n",
    "import numpy\n",
    "n=int(raw_input())\n",
    "a=numpy.array([raw_input().split() for _ in range(n)],int)\n",
    "b=numpy.array([raw_input().split() for _ in range(n)],int)\n",
    "print numpy.dot(a,b)"
   ]
  },
  {
   "cell_type": "code",
   "execution_count": null,
   "metadata": {},
   "outputs": [],
   "source": [
    "#inner and outer\n",
    "import numpy\n",
    "a=numpy.array(raw_input().split(), int)\n",
    "b=numpy.array(raw_input().split(), int)\n",
    "print numpy.inner(a, b)\n",
    "print numpy.outer(a, b)"
   ]
  },
  {
   "cell_type": "code",
   "execution_count": null,
   "metadata": {},
   "outputs": [],
   "source": [
    "#polynomials\n",
    "import numpy\n",
    "pol=numpy.array(raw_input().split(),float)\n",
    "x=float(raw_input())\n",
    "print(numpy.polyval(pol, x))"
   ]
  },
  {
   "cell_type": "code",
   "execution_count": null,
   "metadata": {},
   "outputs": [],
   "source": [
    "#linear algebra\n",
    "import numpy\n",
    "n=int(raw_input())\n",
    "arr=numpy.array([raw_input().split() for _ in range(n)],float)\n",
    "det=numpy.linalg.det(arr)\n",
    "print(round(det,2))"
   ]
  },
  {
   "cell_type": "code",
   "execution_count": null,
   "metadata": {},
   "outputs": [],
   "source": []
  }
 ],
 "metadata": {
  "kernelspec": {
   "display_name": "Python 3",
   "language": "python",
   "name": "python3"
  },
  "language_info": {
   "codemirror_mode": {
    "name": "ipython",
    "version": 3
   },
   "file_extension": ".py",
   "mimetype": "text/x-python",
   "name": "python",
   "nbconvert_exporter": "python",
   "pygments_lexer": "ipython3",
   "version": "3.8.5"
  }
 },
 "nbformat": 4,
 "nbformat_minor": 4
}
